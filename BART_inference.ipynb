{
 "cells": [
  {
   "cell_type": "code",
   "execution_count": 1,
   "id": "2b2bac38",
   "metadata": {},
   "outputs": [
    {
     "name": "stderr",
     "output_type": "stream",
     "text": [
      "d:\\Projects\\LLM\\venv\\lib\\site-packages\\tqdm\\auto.py:21: TqdmWarning: IProgress not found. Please update jupyter and ipywidgets. See https://ipywidgets.readthedocs.io/en/stable/user_install.html\n",
      "  from .autonotebook import tqdm as notebook_tqdm\n"
     ]
    }
   ],
   "source": [
    "from transformers import BartForConditionalGeneration, BartTokenizer\n",
    "from datasets import Dataset, DatasetDict\n",
    "import json\n",
    "from dotenv import load_dotenv\n",
    "import os\n",
    "import torch\n",
    "\n"
   ]
  },
  {
   "cell_type": "code",
   "execution_count": 2,
   "id": "45d01711",
   "metadata": {},
   "outputs": [],
   "source": [
    "load_dotenv()\n",
    "DATASET = os.getenv('OUTPUT_JSON_CLEANED')"
   ]
  },
  {
   "cell_type": "code",
   "execution_count": 3,
   "id": "b8557c64",
   "metadata": {},
   "outputs": [],
   "source": [
    "with open(DATASET, \"r\", encoding=\"utf-8\") as f:\n",
    "    data = json.load(f)"
   ]
  },
  {
   "cell_type": "code",
   "execution_count": 4,
   "id": "91a27b1d",
   "metadata": {},
   "outputs": [
    {
     "name": "stdout",
     "output_type": "stream",
     "text": [
      "example: {'input': 'question: How can I find detailed installation and cleaning instructions for my Samsung appliance?', 'output': 'To access detailed installation and cleaning instructions for your Samsung appliance, visit the Samsung website at http://www.samsung.com. On the homepage, navigate to Support > Support home, and enter the model name of your appliance. The model name can be found on a label enclosed with the product or attached to the product itself.'}\n"
     ]
    }
   ],
   "source": [
    "# Перетворення під BART-формат\n",
    "rows = []\n",
    "for item in data:\n",
    "    question = item[\"instruction\"]\n",
    "    answer = item[\"response\"]\n",
    "    rows.append({\n",
    "        \"input\": f\"question: {question}\",\n",
    "        \"output\": answer\n",
    "    })\n",
    "\n",
    "# Створення Dataset\n",
    "dataset = Dataset.from_list(rows)\n",
    "\n",
    "print(\"example:\", dataset[0])"
   ]
  },
  {
   "cell_type": "code",
   "execution_count": 5,
   "id": "37cc0844",
   "metadata": {},
   "outputs": [],
   "source": [
    "split_dataset = dataset.train_test_split(test_size=0.15, seed=42)"
   ]
  },
  {
   "cell_type": "code",
   "execution_count": 9,
   "id": "a51c68b8",
   "metadata": {},
   "outputs": [
    {
     "data": {
      "text/plain": [
       "BartForConditionalGeneration(\n",
       "  (model): BartModel(\n",
       "    (shared): BartScaledWordEmbedding(50265, 768, padding_idx=1)\n",
       "    (encoder): BartEncoder(\n",
       "      (embed_tokens): BartScaledWordEmbedding(50265, 768, padding_idx=1)\n",
       "      (embed_positions): BartLearnedPositionalEmbedding(1026, 768)\n",
       "      (layers): ModuleList(\n",
       "        (0-5): 6 x BartEncoderLayer(\n",
       "          (self_attn): BartSdpaAttention(\n",
       "            (k_proj): Linear(in_features=768, out_features=768, bias=True)\n",
       "            (v_proj): Linear(in_features=768, out_features=768, bias=True)\n",
       "            (q_proj): Linear(in_features=768, out_features=768, bias=True)\n",
       "            (out_proj): Linear(in_features=768, out_features=768, bias=True)\n",
       "          )\n",
       "          (self_attn_layer_norm): LayerNorm((768,), eps=1e-05, elementwise_affine=True)\n",
       "          (activation_fn): GELUActivation()\n",
       "          (fc1): Linear(in_features=768, out_features=3072, bias=True)\n",
       "          (fc2): Linear(in_features=3072, out_features=768, bias=True)\n",
       "          (final_layer_norm): LayerNorm((768,), eps=1e-05, elementwise_affine=True)\n",
       "        )\n",
       "      )\n",
       "      (layernorm_embedding): LayerNorm((768,), eps=1e-05, elementwise_affine=True)\n",
       "    )\n",
       "    (decoder): BartDecoder(\n",
       "      (embed_tokens): BartScaledWordEmbedding(50265, 768, padding_idx=1)\n",
       "      (embed_positions): BartLearnedPositionalEmbedding(1026, 768)\n",
       "      (layers): ModuleList(\n",
       "        (0-5): 6 x BartDecoderLayer(\n",
       "          (self_attn): BartSdpaAttention(\n",
       "            (k_proj): Linear(in_features=768, out_features=768, bias=True)\n",
       "            (v_proj): Linear(in_features=768, out_features=768, bias=True)\n",
       "            (q_proj): Linear(in_features=768, out_features=768, bias=True)\n",
       "            (out_proj): Linear(in_features=768, out_features=768, bias=True)\n",
       "          )\n",
       "          (activation_fn): GELUActivation()\n",
       "          (self_attn_layer_norm): LayerNorm((768,), eps=1e-05, elementwise_affine=True)\n",
       "          (encoder_attn): BartSdpaAttention(\n",
       "            (k_proj): Linear(in_features=768, out_features=768, bias=True)\n",
       "            (v_proj): Linear(in_features=768, out_features=768, bias=True)\n",
       "            (q_proj): Linear(in_features=768, out_features=768, bias=True)\n",
       "            (out_proj): Linear(in_features=768, out_features=768, bias=True)\n",
       "          )\n",
       "          (encoder_attn_layer_norm): LayerNorm((768,), eps=1e-05, elementwise_affine=True)\n",
       "          (fc1): Linear(in_features=768, out_features=3072, bias=True)\n",
       "          (fc2): Linear(in_features=3072, out_features=768, bias=True)\n",
       "          (final_layer_norm): LayerNorm((768,), eps=1e-05, elementwise_affine=True)\n",
       "        )\n",
       "      )\n",
       "      (layernorm_embedding): LayerNorm((768,), eps=1e-05, elementwise_affine=True)\n",
       "    )\n",
       "  )\n",
       "  (lm_head): Linear(in_features=768, out_features=50265, bias=False)\n",
       ")"
      ]
     },
     "execution_count": 9,
     "metadata": {},
     "output_type": "execute_result"
    }
   ],
   "source": [
    "model_path = \"./bart_finetuned\"\n",
    "\n",
    "FT = False\n",
    "if FT:\n",
    "    tokenizer = BartTokenizer.from_pretrained(model_path)\n",
    "    model = BartForConditionalGeneration.from_pretrained(model_path)\n",
    "else:\n",
    "    tokenizer = BartTokenizer.from_pretrained(\"facebook/bart-base\")\n",
    "    model = BartForConditionalGeneration.from_pretrained(\"facebook/bart-base\")\n",
    "device = torch.device(\"cuda\" if torch.cuda.is_available() else \"cpu\")\n",
    "model.to(device)"
   ]
  },
  {
   "cell_type": "code",
   "execution_count": 7,
   "id": "3298ede1",
   "metadata": {},
   "outputs": [],
   "source": [
    "def generate_response(instruction):\n",
    "    input_text = f\"question: {instruction}\"  # якщо саме так навчав, або просто instruction\n",
    "    inputs = tokenizer(\n",
    "    input_text,\n",
    "    return_tensors=\"pt\",\n",
    "    truncation=True,\n",
    "    padding=\"max_length\",\n",
    "    max_length=512\n",
    "    )\n",
    "\n",
    "    # Перекидаємо input_ids та attention_mask на GPU\n",
    "    inputs = {k: v.to(device) for k, v in inputs.items()}\n",
    "\n",
    "    output_ids = model.generate(**inputs, max_length=64)\n",
    "    return tokenizer.decode(output_ids[0], skip_special_tokens=True)\n"
   ]
  },
  {
   "cell_type": "code",
   "execution_count": 11,
   "id": "4f8158d8",
   "metadata": {},
   "outputs": [
    {
     "name": "stdout",
     "output_type": "stream",
     "text": [
      "Instruction: question: What are the advantages of having a correctly-grounded multiple-socket power strip?\n",
      "Expected: A properly-grounded multi-socket outlet provides better protection against electrical shocks and ensures the safe operation of your appliances. It helps maintain a stable electrical flow, preventing potential damage from power surges or ground faults.\n",
      "Generated: question: question: What are the advantages of having a correctly-grounded multiple-socket power strip?\n",
      "--------------------------------------------------\n",
      "Instruction: question: What are the positive aspects of employing a well-grounded multi-socket outlet?\n",
      "Expected:  A multi-socket outlet with proper grounding offers enhanced protection against electrical shocks and guarantees the safe functioning of your appliances. It aids in sustaining a consistent electrical flow, safeguarding against possible harm from power surges or ground faults.\n",
      "Generated: question: question: What are the positive aspects of employing a well-grounded multi-socket outlet?\n",
      "--------------------------------------------------\n",
      "Instruction: question: What measures should I take to avoid fires in my fridge?\n",
      "Expected: To prevent fires, make sure your refrigerator is in a well-ventilated area, away from any flammable substances. Keep the coils clean and dust-free to prevent overheating. Ensure the refrigerator is plugged into a grounded outlet and use a surge protector if required. Periodically check for signs of wear or damage that could lead to electrical problems.\n",
      "Generated: question: question: What measures should I take to avoid fires in my fridge?\n",
      "--------------------------------------------------\n",
      "Instruction: question: What resources are available for finding experienced repair advice on my Samsung gadget?\n",
      "Expected:  \"To access professional repair information for Samsung devices, visit the official website at http://samsung.com/support. This site offers detailed instructions and expert guidance to assist you with repairs and maintenance of your appliance.\"\n",
      "Generated: question: question: What resources are available for finding experienced repair advice on my Samsung gadget?\n",
      "--------------------------------------------------\n",
      "Instruction: question: Can I use a non-potable water supply for my refrigerator's water connection?\n",
      "Expected: \"Do not connect your refrigerator to any water supply other than a potable one, as stated in the instruction manual for eligible models. Utilizing a different kind of water supply may result in potential health risks and harm to the appliance. Always comply with the manufacturer's guidelines for safe and efficient operation.\"\n",
      "Generated: question: question: Can I use a non-potable water supply for my refrigerator's water connection?\n",
      "--------------------------------------------------\n"
     ]
    }
   ],
   "source": [
    "# Вивід перших прикладів\n",
    "for example in split_dataset[\"test\"].select(range(5)):\n",
    "    instr = example[\"input\"]\n",
    "    real = example[\"output\"]\n",
    "    gen = generate_response(instr)\n",
    "\n",
    "    print(\"Instruction:\", instr)\n",
    "    print(\"Expected:\", real)\n",
    "    print(\"Generated:\", gen)\n",
    "    print(\"-\" * 50)"
   ]
  },
  {
   "cell_type": "code",
   "execution_count": 12,
   "id": "4640336c",
   "metadata": {},
   "outputs": [
    {
     "name": "stdout",
     "output_type": "stream",
     "text": [
      "question: How can I make a salad?\n",
      "question: What is the capital of France?\n",
      "question: Explain the theory of relativity in simple terms.\n",
      "question: What are the benefits of regular exercise?\n",
      "question: What is the process of photosynthesis?\n"
     ]
    }
   ],
   "source": [
    "print(generate_response(\"How can I make a salad?\"))\n",
    "print(generate_response(\"What is the capital of France?\"))\n",
    "print(generate_response(\"Explain the theory of relativity in simple terms.\"))\n",
    "print(generate_response(\"What are the benefits of regular exercise?\"))\n",
    "print(generate_response(\"What is the process of photosynthesis?\"))"
   ]
  },
  {
   "cell_type": "code",
   "execution_count": 13,
   "id": "51873999",
   "metadata": {},
   "outputs": [
    {
     "name": "stdout",
     "output_type": "stream",
     "text": [
      "Precision: 0.5490\n",
      "Recall:    0.4854\n",
      "F1 Score:  0.5145\n"
     ]
    }
   ],
   "source": [
    "from bert_score import score\n",
    "\n",
    "test_samples = split_dataset[\"test\"]\n",
    "\n",
    "references = [ex[\"output\"] for ex in test_samples]\n",
    "candidates = [generate_response(ex[\"input\"]) for ex in test_samples]\n",
    "\n",
    "P, R, F1 = score(\n",
    "    candidates,\n",
    "    references,\n",
    "    lang=\"en\",\n",
    "    model_type=\"bert-base-uncased\",\n",
    "    device=\"cuda\",\n",
    "    batch_size=32\n",
    ")\n",
    "\n",
    "print(f\"Precision: {P.mean().item():.4f}\")\n",
    "print(f\"Recall:    {R.mean().item():.4f}\")\n",
    "print(f\"F1 Score:  {F1.mean().item():.4f}\")\n"
   ]
  }
 ],
 "metadata": {
  "kernelspec": {
   "display_name": "venv",
   "language": "python",
   "name": "python3"
  },
  "language_info": {
   "codemirror_mode": {
    "name": "ipython",
    "version": 3
   },
   "file_extension": ".py",
   "mimetype": "text/x-python",
   "name": "python",
   "nbconvert_exporter": "python",
   "pygments_lexer": "ipython3",
   "version": "3.10.10"
  }
 },
 "nbformat": 4,
 "nbformat_minor": 5
}
