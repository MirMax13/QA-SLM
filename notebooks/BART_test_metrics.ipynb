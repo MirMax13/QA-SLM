{
 "cells": [
  {
   "cell_type": "code",
   "execution_count": 2,
   "id": "2b2bac38",
   "metadata": {},
   "outputs": [
    {
     "name": "stderr",
     "output_type": "stream",
     "text": [
      "c:\\All\\Projects\\QA-SLM\\venv\\lib\\site-packages\\tqdm\\auto.py:21: TqdmWarning: IProgress not found. Please update jupyter and ipywidgets. See https://ipywidgets.readthedocs.io/en/stable/user_install.html\n",
      "  from .autonotebook import tqdm as notebook_tqdm\n"
     ]
    }
   ],
   "source": [
    "from transformers import BartForConditionalGeneration, BartTokenizer\n",
    "from datasets import Dataset\n",
    "import json\n",
    "import torch\n",
    "\n"
   ]
  },
  {
   "cell_type": "code",
   "execution_count": null,
   "id": "b8557c64",
   "metadata": {},
   "outputs": [],
   "source": [
    "with open(\"../eval_selection/hella_dataset.json\", \"r\", encoding=\"utf-8\") as f:\n",
    "    data = json.load(f)"
   ]
  },
  {
   "cell_type": "code",
   "execution_count": 4,
   "id": "91a27b1d",
   "metadata": {},
   "outputs": [
    {
     "name": "stdout",
     "output_type": "stream",
     "text": [
      "example: {'input': 'question: You turned on PowerCool in the refrigerator. What happens next? A) The refrigerator will always stay at maximum cooling. B) After a few hours, it returns to the previous temperature. C) The refrigerator stops working completely.', 'output': 'B'}\n"
     ]
    }
   ],
   "source": [
    "# Перетворення під BART-формат\n",
    "rows = []\n",
    "for item in data:\n",
    "    question = item[\"instruction\"]\n",
    "    answer = item[\"response\"]\n",
    "    rows.append({\n",
    "        \"input\": f\"question: {question}\",\n",
    "        \"output\": answer\n",
    "    })\n",
    "\n",
    "# Створення Dataset\n",
    "dataset = Dataset.from_list(rows)\n",
    "\n",
    "print(\"example:\", dataset[0])"
   ]
  },
  {
   "cell_type": "code",
   "execution_count": 5,
   "id": "a51c68b8",
   "metadata": {},
   "outputs": [
    {
     "name": "stdout",
     "output_type": "stream",
     "text": [
      "Using device: cuda\n"
     ]
    },
    {
     "data": {
      "text/plain": [
       "BartForConditionalGeneration(\n",
       "  (model): BartModel(\n",
       "    (shared): BartScaledWordEmbedding(50265, 768, padding_idx=1)\n",
       "    (encoder): BartEncoder(\n",
       "      (embed_tokens): BartScaledWordEmbedding(50265, 768, padding_idx=1)\n",
       "      (embed_positions): BartLearnedPositionalEmbedding(1026, 768)\n",
       "      (layers): ModuleList(\n",
       "        (0-5): 6 x BartEncoderLayer(\n",
       "          (self_attn): BartAttention(\n",
       "            (k_proj): Linear(in_features=768, out_features=768, bias=True)\n",
       "            (v_proj): Linear(in_features=768, out_features=768, bias=True)\n",
       "            (q_proj): Linear(in_features=768, out_features=768, bias=True)\n",
       "            (out_proj): Linear(in_features=768, out_features=768, bias=True)\n",
       "          )\n",
       "          (self_attn_layer_norm): LayerNorm((768,), eps=1e-05, elementwise_affine=True)\n",
       "          (activation_fn): GELUActivation()\n",
       "          (fc1): Linear(in_features=768, out_features=3072, bias=True)\n",
       "          (fc2): Linear(in_features=3072, out_features=768, bias=True)\n",
       "          (final_layer_norm): LayerNorm((768,), eps=1e-05, elementwise_affine=True)\n",
       "        )\n",
       "      )\n",
       "      (layernorm_embedding): LayerNorm((768,), eps=1e-05, elementwise_affine=True)\n",
       "    )\n",
       "    (decoder): BartDecoder(\n",
       "      (embed_tokens): BartScaledWordEmbedding(50265, 768, padding_idx=1)\n",
       "      (embed_positions): BartLearnedPositionalEmbedding(1026, 768)\n",
       "      (layers): ModuleList(\n",
       "        (0-5): 6 x BartDecoderLayer(\n",
       "          (self_attn): BartAttention(\n",
       "            (k_proj): Linear(in_features=768, out_features=768, bias=True)\n",
       "            (v_proj): Linear(in_features=768, out_features=768, bias=True)\n",
       "            (q_proj): Linear(in_features=768, out_features=768, bias=True)\n",
       "            (out_proj): Linear(in_features=768, out_features=768, bias=True)\n",
       "          )\n",
       "          (activation_fn): GELUActivation()\n",
       "          (self_attn_layer_norm): LayerNorm((768,), eps=1e-05, elementwise_affine=True)\n",
       "          (encoder_attn): BartAttention(\n",
       "            (k_proj): Linear(in_features=768, out_features=768, bias=True)\n",
       "            (v_proj): Linear(in_features=768, out_features=768, bias=True)\n",
       "            (q_proj): Linear(in_features=768, out_features=768, bias=True)\n",
       "            (out_proj): Linear(in_features=768, out_features=768, bias=True)\n",
       "          )\n",
       "          (encoder_attn_layer_norm): LayerNorm((768,), eps=1e-05, elementwise_affine=True)\n",
       "          (fc1): Linear(in_features=768, out_features=3072, bias=True)\n",
       "          (fc2): Linear(in_features=3072, out_features=768, bias=True)\n",
       "          (final_layer_norm): LayerNorm((768,), eps=1e-05, elementwise_affine=True)\n",
       "        )\n",
       "      )\n",
       "      (layernorm_embedding): LayerNorm((768,), eps=1e-05, elementwise_affine=True)\n",
       "    )\n",
       "  )\n",
       "  (lm_head): Linear(in_features=768, out_features=50265, bias=False)\n",
       ")"
      ]
     },
     "execution_count": 5,
     "metadata": {},
     "output_type": "execute_result"
    }
   ],
   "source": [
    "model_path = \"../models/bart_finetuned_ChatGPT\"\n",
    "\n",
    "FT = True\n",
    "if FT:\n",
    "    tokenizer = BartTokenizer.from_pretrained(model_path)\n",
    "    model = BartForConditionalGeneration.from_pretrained(model_path)\n",
    "else:\n",
    "    tokenizer = BartTokenizer.from_pretrained(\"facebook/bart-base\")\n",
    "    model = BartForConditionalGeneration.from_pretrained(\"facebook/bart-base\")\n",
    "device = torch.device(\"cuda\" if torch.cuda.is_available() else \"cpu\")\n",
    "print(\"Using device:\", device)\n",
    "model.to(device)"
   ]
  },
  {
   "cell_type": "code",
   "execution_count": 6,
   "id": "3298ede1",
   "metadata": {},
   "outputs": [],
   "source": [
    "def generate_response(instruction):\n",
    "    input_text = f\"question: {instruction}\"  # якщо саме так навчав, або просто instruction\n",
    "    inputs = tokenizer(\n",
    "    input_text,\n",
    "    return_tensors=\"pt\",\n",
    "    truncation=True,\n",
    "    padding=\"max_length\",\n",
    "    max_length=512\n",
    "    )\n",
    "\n",
    "    # Перекидаємо input_ids та attention_mask на GPU\n",
    "    inputs = {k: v.to(device) for k, v in inputs.items()}\n",
    "\n",
    "    output_ids = model.generate(**inputs, max_length=64)\n",
    "    return tokenizer.decode(output_ids[0], skip_special_tokens=True)\n"
   ]
  },
  {
   "cell_type": "code",
   "execution_count": 7,
   "id": "4f8158d8",
   "metadata": {},
   "outputs": [
    {
     "name": "stdout",
     "output_type": "stream",
     "text": [
      "Instruction: question: You turned on PowerCool in the refrigerator. What happens next? A) The refrigerator will always stay at maximum cooling. B) After a few hours, it returns to the previous temperature. C) The refrigerator stops working completely.\n",
      "Expected: B\n",
      "Generated: PowerCool is a function that speeds up the cooling in the fridge section by operating the cooling fan at full speed. This mode runs for two and a half hours before the fridge goes back to its normal temperature. It is useful when you need to chill a large amount of food rapidly.\n",
      "--------------------------------------------------\n",
      "Instruction: question: A person left the fridge door open for a long time. What will likely happen? A) The temperature inside will rise and food may spoil. B) The refrigerator will automatically close the door. C) The temperature will drop further.\n",
      "Expected: A\n",
      "Generated: When the door is left open for a long duration, it can result in a substantial temperature increase inside, which may jeopardize food safety and hinder the appliance’s performance.\n",
      "--------------------------------------------------\n",
      "Instruction: question: The fridge was placed directly against the wall. What is the result? A) Ventilation may be blocked, increasing energy use. B) The fridge will run quieter. C) It will last longer.\n",
      "Expected: A\n",
      "Generated: It’s important for the refrigerator to be placed in a location that is readily reachable, allowing for better airflow and more efficient performance, reducing energy consumption.\n",
      "--------------------------------------------------\n",
      "Instruction: question: The power cord of the fridge is damaged. What should be done? A) Replace the cord only at a service center. B) Wrap it with tape and keep using it. C) The fridge can work without a cord.\n",
      "Expected: A\n",
      "Generated: If the power cord is damaged, it must be replaced by a service center, its service agent, or similarly qualified individuals to avoid hazards. This ensures safety and proper functioning of the refrigerator by preventing potential electrical risks.\n",
      "--------------------------------------------------\n",
      "Instruction: question: Raw meat was placed on the top shelf without a container. What may happen? A) Other food may get contaminated. B) The meat will last longer. C) The meat will freeze instantly.\n",
      "Expected: A\n",
      "Generated: Storing raw meat in the freezer prevents them from coming into contact with other items or dripping, which is crucial for avoiding cross-contamination and maintaining food safety.\n",
      "--------------------------------------------------\n"
     ]
    }
   ],
   "source": [
    "# Вивід\n",
    "for example in dataset.select(range(5)):\n",
    "    instr = example[\"input\"]\n",
    "    real = example[\"output\"]\n",
    "    gen = generate_response(instr)\n",
    "\n",
    "    print(\"Instruction:\", instr)\n",
    "    print(\"Expected:\", real)\n",
    "    print(\"Generated:\", gen)\n",
    "    print(\"-\" * 50)"
   ]
  },
  {
   "cell_type": "code",
   "execution_count": 8,
   "id": "c75522e8",
   "metadata": {},
   "outputs": [
    {
     "name": "stdout",
     "output_type": "stream",
     "text": [
      "example: {'input': 'question: How should eggs be stored in the fridge – in the door or in a carton on a shelf?', 'output': 'in a carton on a shelf'}\n",
      "Instruction: question: How should eggs be stored in the fridge – in the door or in a carton on a shelf?\n",
      "Expected: in a carton on a shelf\n",
      "Generated: Store eggs on a refrigerator shelf inside their carton, not in the door bins. Door shelves experience greater temperature swings, which may reduce the freshness of perishable foods.\n",
      "--------------------------------------------------\n",
      "Instruction: question: What is the safe way to clean the fridge – unplug it first or wash inside with a water jet?\n",
      "Expected: unplug it first\n",
      "Generated: To clean your refrigerator, first use a water jet to clear away dust, moisture, or other foreign materials from the power plug terminals and contact points. For more thorough cleaning, a soft, damp, lint-free cloth or paper towel is recommended. Avoid using benzene, thinners, vinegar,\n",
      "--------------------------------------------------\n",
      "Instruction: question: How can frost be avoided – by opening the door often or by ensuring proper ventilation and temperature?\n",
      "Expected: by ensuring proper ventilation and temperature\n",
      "Generated: To prevent frost buildup, ensure the door is kept closed as much as possible to maintain stable temperatures and prevent temperature fluctuations that can affect the appliance's performance.\n",
      "--------------------------------------------------\n",
      "Instruction: question: What should be done when leaving the fridge unused for a long time – keep it running with doors closed or turn it off, clean it, and leave doors open?\n",
      "Expected: turn it off, clean it, and leave doors open\n",
      "Generated: To prevent mold and keep the appliance in good condition, it should be turned off, defrosted, cleaned, and left open to dry if unused for an extended time.\n",
      "--------------------------------------------------\n",
      "Instruction: question: What is the safe way to deal with a damaged power cord – replace it at a service center or wrap it with tape and keep using it?\n",
      "Expected: replace it at a service center\n",
      "Generated: When encountering a damaged power cord, promptly stop using it and contact a certified service center for assistance.\n",
      "--------------------------------------------------\n"
     ]
    }
   ],
   "source": [
    "with open(\"../eval_selection/piqa_dataset.json\", \"r\", encoding=\"utf-8\") as f:\n",
    "    data = json.load(f)\n",
    "# Перетворення під BART-формат\n",
    "rows = []\n",
    "for item in data:\n",
    "    question = item[\"instruction\"]\n",
    "    answer = item[\"response\"]\n",
    "    rows.append({\n",
    "        \"input\": f\"question: {question}\",\n",
    "        \"output\": answer\n",
    "    })\n",
    "\n",
    "# Створення Dataset\n",
    "dataset = Dataset.from_list(rows)\n",
    "\n",
    "print(\"example:\", dataset[0])\n",
    "\n",
    "# Вивід\n",
    "for example in dataset.select(range(5)):\n",
    "    instr = example[\"input\"]\n",
    "    real = example[\"output\"]\n",
    "    gen = generate_response(instr)\n",
    "\n",
    "    print(\"Instruction:\", instr)\n",
    "    print(\"Expected:\", real)\n",
    "    print(\"Generated:\", gen)\n",
    "    print(\"-\" * 50)"
   ]
  },
  {
   "cell_type": "code",
   "execution_count": 9,
   "id": "196fca27",
   "metadata": {},
   "outputs": [
    {
     "name": "stdout",
     "output_type": "stream",
     "text": [
      "Instruction: question: Can the refrigerator be transported lying down?\n",
      "Expected: no\n",
      "Generated: The refrigerator should be transported by two or more people to ensure safety. It must be installed on a firm and level floor, avoiding damp, dusty, or outdoor areas and direct sunlight. These precautions help maintain its stability and functionality.\n",
      "--------------------------------------------------\n",
      "Instruction: question: Should the refrigerator only be connected to a grounded outlet?\n",
      "Expected: yes\n",
      "Generated: The refrigerator must be connected to a grounded outlet with an equipment-grounding conductor. This prevents electrical shocks and complies with local codes and ordinances.\n",
      "--------------------------------------------------\n",
      "Instruction: question: Can raw meat be stored on a shelf without a container?\n",
      "Expected: no\n",
      "Generated: Storing raw meat in a container prevents them from coming into contact with other foods or dripping, which is crucial for avoiding cross-contamination and maintaining food safety.\n",
      "--------------------------------------------------\n",
      "Instruction: question: Does PowerCool turn off automatically after a few hours?\n",
      "Expected: yes\n",
      "Generated: PowerCool is a function that speeds up the cooling in the fridge section by operating the cooling fan at full speed. This mode runs for two and a half hours before the fridge goes back to its normal temperature. It is useful when you need to chill a large amount of food rapidly.\n",
      "--------------------------------------------------\n",
      "Instruction: question: Can old hose-sets be reused for the water connection?\n",
      "Expected: no\n",
      "Generated: New hose-sets must be used with the appliance to ensure the water is safe for use and the appliance functions correctly.\n",
      "--------------------------------------------------\n"
     ]
    }
   ],
   "source": [
    "with open(\"../eval_selection/boolq_dataset.json\", \"r\", encoding=\"utf-8\") as f:\n",
    "    data = json.load(f)\n",
    "# Перетворення під BART-формат\n",
    "rows = []\n",
    "for item in data:\n",
    "    question = item[\"instruction\"]\n",
    "    answer = item[\"response\"]\n",
    "    rows.append({\n",
    "        \"input\": f\"question: {question}\",\n",
    "        \"output\": answer\n",
    "    })\n",
    "\n",
    "# Створення Dataset\n",
    "dataset = Dataset.from_list(rows)\n",
    "\n",
    "# print(\"example:\", dataset[0])\n",
    "\n",
    "# Вивід\n",
    "for example in dataset.select(range(5)):\n",
    "    instr = example[\"input\"]\n",
    "    real = example[\"output\"]\n",
    "    gen = generate_response(instr)\n",
    "\n",
    "    print(\"Instruction:\", instr)\n",
    "    print(\"Expected:\", real)\n",
    "    print(\"Generated:\", gen)\n",
    "    print(\"-\" * 50)"
   ]
  },
  {
   "cell_type": "code",
   "execution_count": 10,
   "id": "04793bdd",
   "metadata": {},
   "outputs": [
    {
     "name": "stdout",
     "output_type": "stream",
     "text": [
      "Instruction: question: The user placed raw meat in a container and put it in the fridge so _ would not contaminate other food. meat container\n",
      "Expected: meat\n",
      "Generated: Using proper storage containers for raw meat stops them from coming into contact with other items or dripping, thereby reducing the risk of cross-contamination and protecting food safety.\n",
      "--------------------------------------------------\n",
      "Instruction: question: The child opened the fridge door, although _ was heavy. child door\n",
      "Expected: door\n",
      "Generated: The door must be kept closed as much as possible to maintain stable temperatures and prevent temperature fluctuations that can affect food freshness.\n",
      "--------------------------------------------------\n",
      "Instruction: question: The technician checked the compressor because _ was noisy. technician compressor\n",
      "Expected: compressor\n",
      "Generated: The compressor’s compressor must be replaced by a professional at a Samsung service center, as it is not intended for user installation. Attempting to do it on your own may cause electric shock, making professional service the safest option.\n",
      "--------------------------------------------------\n",
      "Instruction: question: The user put a bottle in the fridge door because _ was tall. bottle door\n",
      "Expected: bottle\n",
      "Generated: The bottle door must be kept closed as much as possible to maintain stable temperatures and prevent temperature fluctuations that can affect food freshness.\n",
      "--------------------------------------------------\n",
      "Instruction: question: The mother gave the manual to the child so _ would know how to use the fridge. mother child\n",
      "Expected: child\n",
      "Generated: The child should be instructed on the refrigerator’s use and maintenance by a responsible person. This ensures that the appliance is operated safely within the home.\n",
      "--------------------------------------------------\n"
     ]
    }
   ],
   "source": [
    "with open(\"../eval_selection/winogrande_dataset.json\", \"r\", encoding=\"utf-8\") as f:\n",
    "    data = json.load(f)\n",
    "# Перетворення під BART-формат\n",
    "rows = []\n",
    "for item in data:\n",
    "    question = item[\"instruction\"]\n",
    "    answer = item[\"response\"]\n",
    "    rows.append({\n",
    "        \"input\": f\"question: {question}\",\n",
    "        \"output\": answer\n",
    "    })\n",
    "\n",
    "# Створення Dataset\n",
    "dataset = Dataset.from_list(rows)\n",
    "\n",
    "# print(\"example:\", dataset[0])\n",
    "\n",
    "# Вивід\n",
    "for example in dataset.select(range(5)):\n",
    "    instr = example[\"input\"]\n",
    "    real = example[\"output\"]\n",
    "    gen = generate_response(instr)\n",
    "\n",
    "    print(\"Instruction:\", instr)\n",
    "    print(\"Expected:\", real)\n",
    "    print(\"Generated:\", gen)\n",
    "    print(\"-\" * 50)"
   ]
  }
 ],
 "metadata": {
  "kernelspec": {
   "display_name": "venv",
   "language": "python",
   "name": "python3"
  },
  "language_info": {
   "codemirror_mode": {
    "name": "ipython",
    "version": 3
   },
   "file_extension": ".py",
   "mimetype": "text/x-python",
   "name": "python",
   "nbconvert_exporter": "python",
   "pygments_lexer": "ipython3",
   "version": "3.10.8"
  }
 },
 "nbformat": 4,
 "nbformat_minor": 5
}
