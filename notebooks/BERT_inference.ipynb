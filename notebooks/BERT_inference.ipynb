{
 "cells": [
  {
   "cell_type": "code",
   "execution_count": 2,
   "id": "f0a9f843",
   "metadata": {},
   "outputs": [],
   "source": [
    "from transformers import pipeline\n",
    "import json\n",
    "import evaluate\n",
    "import numpy as np\n",
    "from datasets import Dataset"
   ]
  },
  {
   "cell_type": "code",
   "execution_count": 3,
   "id": "f8a4360d",
   "metadata": {},
   "outputs": [
    {
     "name": "stderr",
     "output_type": "stream",
     "text": [
      "Device set to use cuda:0\n"
     ]
    }
   ],
   "source": [
    "qa_pipeline = pipeline(\"question-answering\", model=\"../models/bert_best\")\n"
   ]
  },
  {
   "cell_type": "code",
   "execution_count": 4,
   "id": "a7ef0da0",
   "metadata": {},
   "outputs": [],
   "source": [
    "with open(\"../datasets/ChatGPT/extractive/fridge_dataset_v1.0_clean.json\", \"r\") as f:\n",
    "    data = json.load(f)"
   ]
  },
  {
   "cell_type": "code",
   "execution_count": 5,
   "id": "26ceb8ee",
   "metadata": {},
   "outputs": [
    {
     "name": "stdout",
     "output_type": "stream",
     "text": [
      "{'context': 'Maintenance\\nCleaning\\nInterior and exterior\\nвљ\\xa0 WARNING\\nвЂў Do not use benzene, thinner, vinegar, liquid bleach, baking soda, citric, salt mixtures or home/car detergent such as Cloroxв„ў for cleaning purposes. They may damage the surface of the refrigerator and cause a fire.\\nвЂў Do not spray water onto the refrigerator. This may cause electric shock.\\nRegularly use a dry cloth to remove all foreign substances such as dust or water from the power plug terminals and contact points.\\n1. Unplug the power cord.\\n2. Use a moistened, soft, lint-free cloth or paper towel to clean the refrigeratorвЂ™s interior and exterior.\\n3. When done, use a dry cloth or paper towel to dry well.\\n4. Plug in the power cord.\\n\\nLED Lamps\\nTo replace the lamps of the refrigerator, contact a local Samsung service centre.\\nвљ\\xa0 WARNING\\nThe lamps are not user-serviceable. Do not attempt to replace a lamp yourself. This can cause electric shock.\\n\\nLamp (Light Source)\\nThis product contains a light source of energy efficiency class <G>.\\nThe lamp(s) and/or control gear(s) are not user-serviceable. To replace the lamp(s) and/or control gear(s) in the product, contact a local Samsung service centre.\\nFor detailed instructions on replacing lamp(s) or control gear(s) in your product, visit the Samsung website (http://www.samsung.\\ncom), go to Support > Support home, and then enter the model name.\\nFor detailed instructions on dismantling lamp(s) and/or control gear(s), simply follow the replacement instruction reached as described above.\\n\\nAppendix\\nSafety Instruction\\nвЂў This refrigerating appliance is not intended to be used as a built-in appliance.\\n\\nInformation for model and ordering spare parts\\nModel information\\nTo access energy labelling information about this product on the European Product Registry for Energy Labelling (EPREL), scan QR-Code on the energy label.\\nYou can find QR-Code on the energy label in your product box.\\n\\nPart information\\nвЂў The minimum period during which spare parts, necessary for the repair of the appliance, are available\\nвЂ“ 7 Years thermostats, temperature sensors, printed circuit boards and light sources, door handles, door hinges, trays, baskets (boxes or drawers)\\n- 10 Years door gaskets\\nвЂў The minimum duration of the guarantee of the refrigerating appliance offered by the manufacturer 24 Months.\\nвЂў Relevant information for ordering spare parts, directly or through other channels provided by the manufacturer, importer or authorized representative\\nвЂў You can find professional repair information on http://samsung.\\ncom/support.\\nвЂў You can find user servicing manual on http://samsung.com/\\nsupport.\\n\\nInstall Instruction\\nFor refrigerating appliances with climate class\\nвЂў Depending on the climate class, this refrigerating appliance is intended to be used at ambient temperatures range as specified following table.\\nвЂў The climate class can be found on the rating plate. The product may not operate properly at temperatures outside of the specific range.\\nвЂў You can find climate class on label inside of your refrigerator', 'question': 'Can you help me book a flight to Paris?', 'answers': {'answer_start': [0], 'text': ['']}, 'is_impossible': True}\n"
     ]
    }
   ],
   "source": [
    "# Перетворення під BERT-формат\n",
    "rows = []\n",
    "for item in data:\n",
    "    context = item[\"context\"]\n",
    "    question = item[\"question\"]\n",
    "    if item[\"answers\"]:\n",
    "        answer_start = item[\"answers\"][0][\"answer_start\"]\n",
    "        answer = item[\"answers\"][0][\"text\"]\n",
    "        rows.append({\n",
    "            \"context\": context,\n",
    "            \"question\": question,\n",
    "            \"answers\": {\"text\": [answer], \"answer_start\": [answer_start]},\n",
    "            \"is_impossible\": item[\"is_impossible\"]\n",
    "        })\n",
    "    else:\n",
    "        # Якщо відповіді немає, можна пропустити запис або додати порожні значення\n",
    "        rows.append({\n",
    "            \"context\": context,\n",
    "            \"question\": question,\n",
    "            \"answers\": {\"text\": [\"\"], \"answer_start\": [0]},\n",
    "            \"is_impossible\": item[\"is_impossible\"]\n",
    "        })\n",
    "\n",
    "# Створення Dataset\n",
    "dataset = Dataset.from_list(rows)\n",
    "\n",
    "# Перевірка\n",
    "print(dataset[-1])"
   ]
  },
  {
   "cell_type": "code",
   "execution_count": 6,
   "id": "1c1d6415",
   "metadata": {},
   "outputs": [],
   "source": [
    "# 3. Тренувальний/валідаційний спліт\n",
    "split_dataset = dataset.train_test_split(test_size=0.15, seed=42)"
   ]
  },
  {
   "cell_type": "code",
   "execution_count": 9,
   "id": "8357ed5d",
   "metadata": {},
   "outputs": [
    {
     "name": "stderr",
     "output_type": "stream",
     "text": [
      "You seem to be using the pipelines sequentially on GPU. In order to maximize efficiency please use a dataset\n"
     ]
    },
    {
     "name": "stdout",
     "output_type": "stream",
     "text": [
      "Question: What is the recommended disposal procedure for business users of this product?\n",
      "Generated Answer: of\n",
      "True Answer: Business users should contact their supplier and check the terms and conditions of the purchase contract. This product and its electronic accessories should not be mixed with other commercial wastes for disposal.\n",
      "--------------------------------------------------\n",
      "Question: When setting up the appliance, what should be confirmed about the power cord?\n",
      "Generated Answer: that\n",
      "True Answer: When positioning the appliance, ensure the supply cord is not trapped or damaged.\n",
      "--------------------------------------------------\n",
      "Question: What is the temperature profile of the two-star compartment relative to other compartments in the freezer?\n",
      "Generated Answer: ,\n",
      "True Answer: The temperature of two star section (sections) or compartment (compartments) which have two star symbol ( ) is slightly higher than other freezer compartment (compartments).\n",
      "--------------------------------------------------\n",
      "Question: Am I allowed to hang from the appliance doors, storage section, or shelves, or is it unsafe to climb into the unit?\n",
      "Generated Answer: .\n",
      "True Answer: Do not hang from the appliance doors, storage room, shelf or climb up into it.\n",
      "--------------------------------------------------\n",
      "Question: Where should multiple portable socket-outlets or portable power supplies not be located?\n",
      "Generated Answer: the\n",
      "True Answer: Do not locate multiple portable socket-outlets or portable power supplies at the rear of the appliance.\n",
      "--------------------------------------------------\n"
     ]
    }
   ],
   "source": [
    "generated_answers = []\n",
    "true_answers = []\n",
    "for example in split_dataset[\"train\"].select(range(5)):\n",
    "    context = example[\"context\"]\n",
    "    question = example[\"question\"]\n",
    "    answer = qa_pipeline(question=question, context=context)\n",
    "    \n",
    "    generated_answers.append(answer[\"answer\"])\n",
    "    true_answers.append(example[\"answers\"][\"text\"][0])\n",
    "    print(f\"Question: {question}\")\n",
    "    print(f\"Generated Answer: {answer['answer']}\")\n",
    "    print(f\"True Answer: {example['answers']['text'][0]}\")\n",
    "    print(\"-\" * 50)"
   ]
  },
  {
   "cell_type": "code",
   "execution_count": 6,
   "id": "7321a18d",
   "metadata": {},
   "outputs": [
    {
     "name": "stdout",
     "output_type": "stream",
     "text": [
      "Exact Match: 33.87096774193548\n",
      "F1 Score: 67.25538192568553\n"
     ]
    }
   ],
   "source": [
    "metric = evaluate.load(\"squad\")\n",
    "\n",
    "predictions = [{\"id\": str(i), \"prediction_text\": pred} for i, pred in enumerate(generated_answers)]\n",
    "references = [{\"id\": str(i), \"answers\": {\"text\": [ref], \"answer_start\": [0]}} for i, ref in enumerate(true_answers)]\n",
    "\n",
    "results = metric.compute(predictions=predictions, references=references)\n",
    "\n",
    "print(\"Exact Match:\", results[\"exact_match\"])\n",
    "print(\"F1 Score:\", results[\"f1\"])"
   ]
  },
  {
   "cell_type": "code",
   "execution_count": 9,
   "id": "21be8b9e",
   "metadata": {},
   "outputs": [
    {
     "name": "stderr",
     "output_type": "stream",
     "text": [
      "Some weights of RobertaModel were not initialized from the model checkpoint at roberta-large and are newly initialized: ['pooler.dense.bias', 'pooler.dense.weight']\n",
      "You should probably TRAIN this model on a down-stream task to be able to use it for predictions and inference.\n"
     ]
    },
    {
     "name": "stdout",
     "output_type": "stream",
     "text": [
      "Average Precision: 0.9529\n",
      "Average Recall: 0.9204\n",
      "Average F1: 0.9359\n"
     ]
    }
   ],
   "source": [
    "bertscore = evaluate.load(\"bertscore\")\n",
    "\n",
    "results_bert = bertscore.compute(predictions=generated_answers, references=true_answers, lang=\"en\")\n",
    "\n",
    "avg_precision = np.mean(results_bert['precision'])\n",
    "avg_recall = np.mean(results_bert['recall'])\n",
    "avg_f1 = np.mean(results_bert['f1'])\n",
    "\n",
    "print(f\"Average Precision: {avg_precision:.4f}\")\n",
    "print(f\"Average Recall: {avg_recall:.4f}\")\n",
    "print(f\"Average F1: {avg_f1:.4f}\")\n"
   ]
  }
 ],
 "metadata": {
  "kernelspec": {
   "display_name": "venv",
   "language": "python",
   "name": "python3"
  },
  "language_info": {
   "codemirror_mode": {
    "name": "ipython",
    "version": 3
   },
   "file_extension": ".py",
   "mimetype": "text/x-python",
   "name": "python",
   "nbconvert_exporter": "python",
   "pygments_lexer": "ipython3",
   "version": "3.10.10"
  }
 },
 "nbformat": 4,
 "nbformat_minor": 5
}
